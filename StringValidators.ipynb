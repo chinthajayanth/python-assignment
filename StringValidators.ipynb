{
 "cells": [
  {
   "cell_type": "code",
   "execution_count": 3,
   "id": "8a795b71",
   "metadata": {},
   "outputs": [
    {
     "name": "stdout",
     "output_type": "stream",
     "text": [
      "aB123\n",
      "True\n",
      "True\n",
      "True\n",
      "True\n",
      "True\n"
     ]
    }
   ],
   "source": [
    "s =input()\n",
    "alnum = 0\n",
    "alpha = 0\n",
    "digit = 0\n",
    "lower = 0\n",
    "upper = 0\n",
    "for i in s:\n",
    "    if (i.isalnum()):\n",
    "        alnum += 1\n",
    "    if (i.isalpha()):\n",
    "        alpha += 1\n",
    "    if (i.isdigit()):\n",
    "        digit += 1\n",
    "    if (i.islower()):\n",
    "        lower += 1\n",
    "    if (i.isupper()):\n",
    "        upper += 1\n",
    "if (alnum != 0):\n",
    "    print(\"True\")\n",
    "else:\n",
    "    print(\"False\")\n",
    "if (alpha != 0):\n",
    "    print(\"True\")\n",
    "else:\n",
    "    print(\"False\")\n",
    "if (digit != 0):\n",
    "    print(\"True\")\n",
    "else:\n",
    "    print(\"False\")\n",
    "if (lower != 0):\n",
    "    print(\"True\")\n",
    "else:\n",
    "    print(\"False\")\n",
    "if (upper != 0):\n",
    "    print(\"True\")\n",
    "else:\n",
    "    print(\"False\")"
   ]
  },
  {
   "cell_type": "code",
   "execution_count": null,
   "id": "0841abd8",
   "metadata": {},
   "outputs": [],
   "source": []
  }
 ],
 "metadata": {
  "kernelspec": {
   "display_name": "Python 3 (ipykernel)",
   "language": "python",
   "name": "python3"
  },
  "language_info": {
   "codemirror_mode": {
    "name": "ipython",
    "version": 3
   },
   "file_extension": ".py",
   "mimetype": "text/x-python",
   "name": "python",
   "nbconvert_exporter": "python",
   "pygments_lexer": "ipython3",
   "version": "3.10.9"
  }
 },
 "nbformat": 4,
 "nbformat_minor": 5
}
