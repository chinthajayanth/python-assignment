{
 "cells": [
  {
   "cell_type": "code",
   "execution_count": 2,
   "id": "ee63361c",
   "metadata": {},
   "outputs": [
    {
     "name": "stdout",
     "output_type": "stream",
     "text": [
      "4\n",
      "5\n",
      "0\n",
      "0.8\n"
     ]
    }
   ],
   "source": [
    "    a = int(input())\n",
    "    b = int(input())\n",
    "    result = a/b\n",
    "    print(int(result))\n",
    "    print(float(result))"
   ]
  },
  {
   "cell_type": "code",
   "execution_count": null,
   "id": "f65b0c15",
   "metadata": {},
   "outputs": [],
   "source": []
  }
 ],
 "metadata": {
  "kernelspec": {
   "display_name": "Python 3 (ipykernel)",
   "language": "python",
   "name": "python3"
  },
  "language_info": {
   "codemirror_mode": {
    "name": "ipython",
    "version": 3
   },
   "file_extension": ".py",
   "mimetype": "text/x-python",
   "name": "python",
   "nbconvert_exporter": "python",
   "pygments_lexer": "ipython3",
   "version": "3.10.9"
  }
 },
 "nbformat": 4,
 "nbformat_minor": 5
}
